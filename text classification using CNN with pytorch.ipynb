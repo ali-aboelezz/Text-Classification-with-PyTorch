{
  "nbformat": 4,
  "nbformat_minor": 0,
  "metadata": {
    "colab": {
      "provenance": [],
      "collapsed_sections": []
    },
    "kernelspec": {
      "name": "python3",
      "display_name": "Python 3"
    },
    "language_info": {
      "name": "python"
    },
    "accelerator": "GPU"
  },
  "cells": [
    {
      "cell_type": "code",
      "source": [
        "\n",
        "import torch\n",
        "import torch.nn as nn\n",
        "import torch.nn.functional as F\n",
        "from torchtext.legacy import data, datasets\n",
        "import random"
      ],
      "metadata": {
        "id": "thiGiJugAuoy"
      },
      "execution_count": 1,
      "outputs": []
    },
    {
      "cell_type": "markdown",
      "source": [
        "**Preprocessing text dataset**"
      ],
      "metadata": {
        "id": "QVCjmZdiwUzb"
      }
    },
    {
      "cell_type": "code",
      "source": [
        "seed = 966\n",
        "torch.manual_seed(seed)\n",
        "\n",
        "device = torch.device('cuda' if torch.cuda.is_available() else 'cpu')\n",
        "print(device)"
      ],
      "metadata": {
        "id": "iOgPHnQtAutO",
        "colab": {
          "base_uri": "https://localhost:8080/"
        },
        "outputId": "9a0dffcf-641c-4f08-8abf-7d09f9f058eb"
      },
      "execution_count": 2,
      "outputs": [
        {
          "output_type": "stream",
          "name": "stdout",
          "text": [
            "cuda\n"
          ]
        }
      ]
    },
    {
      "cell_type": "code",
      "source": [
        "\n",
        "TEXT = data.Field(tokenize='spacy', lower=True)\n",
        "LABEL = data.LabelField()"
      ],
      "metadata": {
        "id": "dDVEivhqAuxA",
        "colab": {
          "base_uri": "https://localhost:8080/"
        },
        "outputId": "fad01484-97ad-4d70-8b6d-b2472fe545c0"
      },
      "execution_count": 3,
      "outputs": [
        {
          "output_type": "stream",
          "name": "stderr",
          "text": [
            "/usr/local/lib/python3.7/dist-packages/torchtext/data/utils.py:123: UserWarning: Spacy model \"en\" could not be loaded, trying \"en_core_web_sm\" instead\n",
            "  warnings.warn(f'Spacy model \"{language}\" could not be loaded, trying \"{OLD_MODEL_SHORTCUTS[language]}\" instead')\n"
          ]
        }
      ]
    },
    {
      "cell_type": "code",
      "source": [
        "train, test = datasets.TREC.splits(TEXT, LABEL)\n",
        "train, val = train.split(random_state = random.seed(seed))"
      ],
      "metadata": {
        "id": "BxiaBGivAu3K",
        "colab": {
          "base_uri": "https://localhost:8080/"
        },
        "outputId": "ef62ac42-6e0d-4f81-f228-4020d9d137a6"
      },
      "execution_count": 4,
      "outputs": [
        {
          "output_type": "stream",
          "name": "stdout",
          "text": [
            "downloading train_5500.label\n"
          ]
        },
        {
          "output_type": "stream",
          "name": "stderr",
          "text": [
            "train_5500.label: 100%|██████████| 336k/336k [00:00<00:00, 361kB/s]\n"
          ]
        },
        {
          "output_type": "stream",
          "name": "stdout",
          "text": [
            "downloading TREC_10.label\n"
          ]
        },
        {
          "output_type": "stream",
          "name": "stderr",
          "text": [
            "TREC_10.label: 100%|██████████| 23.4k/23.4k [00:00<00:00, 101kB/s] \n"
          ]
        }
      ]
    },
    {
      "cell_type": "code",
      "source": [
        "vars(train[-1])"
      ],
      "metadata": {
        "colab": {
          "base_uri": "https://localhost:8080/"
        },
        "id": "Kxky-ODaRh0U",
        "outputId": "ab3c0540-8dc8-477c-e8cd-735ab9bca1e1"
      },
      "execution_count": 5,
      "outputs": [
        {
          "output_type": "execute_result",
          "data": {
            "text/plain": [
              "{'text': ['how', 'do', 'you', 'say', '2', 'in', 'latin', '?'], 'label': 'ENTY'}"
            ]
          },
          "metadata": {},
          "execution_count": 5
        }
      ]
    },
    {
      "cell_type": "code",
      "source": [
        "\n",
        "TEXT.build_vocab(train, min_freq=2)\n",
        "LABEL.build_vocab(train)"
      ],
      "metadata": {
        "id": "JoM5PVpl5Kra"
      },
      "execution_count": 6,
      "outputs": []
    },
    {
      "cell_type": "code",
      "source": [
        "print(\"Vocabulary size of TEXT:\",len(TEXT.vocab.stoi))\n",
        "print(\"Vocabulary size of LABEL:\",len(LABEL.vocab.stoi))\n",
        "print(LABEL.vocab.stoi)"
      ],
      "metadata": {
        "colab": {
          "base_uri": "https://localhost:8080/"
        },
        "id": "uKAd1xen2o5b",
        "outputId": "6bc4dff9-5cae-4e8d-8e7c-24bb9554f7ff"
      },
      "execution_count": 7,
      "outputs": [
        {
          "output_type": "stream",
          "name": "stdout",
          "text": [
            "Vocabulary size of TEXT: 2643\n",
            "Vocabulary size of LABEL: 6\n",
            "defaultdict(None, {'ENTY': 0, 'HUM': 1, 'DESC': 2, 'NUM': 3, 'LOC': 4, 'ABBR': 5})\n"
          ]
        }
      ]
    },
    {
      "cell_type": "code",
      "source": [
        "train_iterator, valid_iterator, test_iterator = data.BucketIterator.splits(\n",
        "    (train, val, test),\n",
        "    batch_size = 64,\n",
        "    sort_key=lambda x: len(x.text), \n",
        "    device=device\n",
        ")"
      ],
      "metadata": {
        "id": "zEiW7Ri9S-el"
      },
      "execution_count": 8,
      "outputs": []
    },
    {
      "cell_type": "markdown",
      "source": [
        "**Building a Simple CNN Model**"
      ],
      "metadata": {
        "id": "hieTuqmvwieC"
      }
    },
    {
      "cell_type": "code",
      "source": [
        "class CNN(nn.Module):\n",
        "  def __init__(self, vocabulary_size, embedding_size, \n",
        "               kernels_number, kernel_sizes, output_size, dropout_rate):\n",
        "    super().__init__()\n",
        "    self.embedding = nn.Embedding(vocabulary_size, embedding_size)\n",
        "    self.convolution_layers = nn.ModuleList([nn.Conv2d(in_channels=1, out_channels=kernels_number, kernel_size=(k, embedding_size)) \n",
        "                                            for k in kernel_sizes])\n",
        "    self.dropout = nn.Dropout(dropout_rate)\n",
        "    self.fully_connected = nn.Linear(len(kernel_sizes) * kernels_number, output_size)\n",
        "  def forward(self, text):\n",
        "    text = text.permute(1, 0)\n",
        "    input_embeddings = self.embedding(text)\n",
        "    input_embeddings = input_embeddings.unsqueeze(1)\n",
        "    conved = [F.relu(convolution_layer(input_embeddings)).squeeze(3) for convolution_layer in self.convolution_layers]\n",
        "    pooled = [F.max_pool1d(conv, conv.shape[2]).squeeze(2) for conv in conved]\n",
        "    concat = self.dropout(torch.cat(pooled, dim=1))\n",
        "    final_output = self.fully_connected(concat)\n",
        "    return final_output"
      ],
      "metadata": {
        "id": "sfXWPHz3S-hR"
      },
      "execution_count": 9,
      "outputs": []
    },
    {
      "cell_type": "code",
      "source": [
        "input_size = len(TEXT.vocab)\n",
        "embedding_size = 100\n",
        "kernels_number = 100\n",
        "kernel_sizes = [2, 3, 4]\n",
        "output_size = len(LABEL.vocab)\n",
        "dropout_rate = 0.3"
      ],
      "metadata": {
        "id": "pCURSmjUS-kV"
      },
      "execution_count": 10,
      "outputs": []
    },
    {
      "cell_type": "code",
      "source": [
        "model = CNN(input_size, embedding_size, kernels_number, kernel_sizes, output_size, dropout_rate)"
      ],
      "metadata": {
        "id": "XOcYKu_SmQvy"
      },
      "execution_count": 11,
      "outputs": []
    },
    {
      "cell_type": "code",
      "source": [
        "print(model)"
      ],
      "metadata": {
        "colab": {
          "base_uri": "https://localhost:8080/"
        },
        "id": "SMjhG8IOmhZf",
        "outputId": "40ff3b35-b616-42a8-ba3d-9aa1cca9dffd"
      },
      "execution_count": 12,
      "outputs": [
        {
          "output_type": "stream",
          "name": "stdout",
          "text": [
            "CNN(\n",
            "  (embedding): Embedding(2643, 100)\n",
            "  (convolution_layers): ModuleList(\n",
            "    (0): Conv2d(1, 100, kernel_size=(2, 100), stride=(1, 1))\n",
            "    (1): Conv2d(1, 100, kernel_size=(3, 100), stride=(1, 1))\n",
            "    (2): Conv2d(1, 100, kernel_size=(4, 100), stride=(1, 1))\n",
            "  )\n",
            "  (dropout): Dropout(p=0.3, inplace=False)\n",
            "  (fully_connected): Linear(in_features=300, out_features=6, bias=True)\n",
            ")\n"
          ]
        }
      ]
    },
    {
      "cell_type": "code",
      "source": [
        "model.to(device)"
      ],
      "metadata": {
        "colab": {
          "base_uri": "https://localhost:8080/"
        },
        "id": "aKcm7ZJQm9Oe",
        "outputId": "7de4150e-fc3b-4e7e-81fa-65781d9fe4fd"
      },
      "execution_count": 13,
      "outputs": [
        {
          "output_type": "execute_result",
          "data": {
            "text/plain": [
              "CNN(\n",
              "  (embedding): Embedding(2643, 100)\n",
              "  (convolution_layers): ModuleList(\n",
              "    (0): Conv2d(1, 100, kernel_size=(2, 100), stride=(1, 1))\n",
              "    (1): Conv2d(1, 100, kernel_size=(3, 100), stride=(1, 1))\n",
              "    (2): Conv2d(1, 100, kernel_size=(4, 100), stride=(1, 1))\n",
              "  )\n",
              "  (dropout): Dropout(p=0.3, inplace=False)\n",
              "  (fully_connected): Linear(in_features=300, out_features=6, bias=True)\n",
              ")"
            ]
          },
          "metadata": {},
          "execution_count": 13
        }
      ]
    },
    {
      "cell_type": "markdown",
      "source": [
        "**Train and Evaluate Functions**"
      ],
      "metadata": {
        "id": "uMoLI86g0FA_"
      }
    },
    {
      "cell_type": "code",
      "source": [
        "import torch.optim as optim\n",
        "\n",
        "criterion = nn.CrossEntropyLoss()\n",
        "criterion = criterion.to(device)\n",
        "\n",
        "optimizer = optim.Adam(model.parameters())"
      ],
      "metadata": {
        "id": "DUYzZfU9nBdP"
      },
      "execution_count": 14,
      "outputs": []
    },
    {
      "cell_type": "code",
      "source": [
        "def accuracy(predictions, actual_label):\n",
        "    max_predictions = predictions.argmax(dim = 1, keepdim = True, )\n",
        "    correct_predictions = max_predictions.squeeze(1).eq(actual_label)\n",
        "    accuracy = correct_predictions.sum() / torch.cuda.FloatTensor([actual_label.shape[0]])\n",
        "    return accuracy"
      ],
      "metadata": {
        "id": "Bk5boWJWnld4"
      },
      "execution_count": 15,
      "outputs": []
    },
    {
      "cell_type": "code",
      "source": [
        "def train(model, iterator, optimizer, criterion):\n",
        "\n",
        "    model.train()\n",
        "    epoch_loss = 0\n",
        "    epoch_acc = 0\n",
        "    \n",
        "    for batch in iterator:\n",
        "        optimizer.zero_grad()\n",
        "        \n",
        "        predictions = model(batch.text)\n",
        "        \n",
        "        loss = criterion(predictions, batch.label)\n",
        "        \n",
        "        acc = accuracy(predictions, batch.label)\n",
        "        \n",
        "        loss.backward()\n",
        "        \n",
        "        optimizer.step()\n",
        "        \n",
        "        epoch_loss += loss.item()\n",
        "        epoch_acc += acc.item()\n",
        "        \n",
        "    return epoch_loss / len(iterator), epoch_acc / len(iterator)"
      ],
      "metadata": {
        "id": "ynHqY1ysoT57"
      },
      "execution_count": 16,
      "outputs": []
    },
    {
      "cell_type": "code",
      "source": [
        "def evaluate(model, iterator, criterion):\n",
        "\n",
        "    model.eval()\n",
        "    epoch_loss = 0\n",
        "    epoch_acc = 0\n",
        "    \n",
        "    with torch.no_grad():\n",
        "    \n",
        "        for batch in iterator:\n",
        "\n",
        "            predictions = model(batch.text)\n",
        "            \n",
        "            loss = criterion(predictions, batch.label)\n",
        "            \n",
        "            acc = accuracy(predictions, batch.label)\n",
        "            epoch_loss += loss.item()\n",
        "            epoch_acc += acc.item()\n",
        "        \n",
        "    return epoch_loss / len(iterator), epoch_acc / len(iterator)"
      ],
      "metadata": {
        "id": "XoIQYPOJo164"
      },
      "execution_count": 17,
      "outputs": []
    },
    {
      "cell_type": "markdown",
      "source": [
        "**Training the model**"
      ],
      "metadata": {
        "id": "_CF2U8pZBq1t"
      }
    },
    {
      "cell_type": "code",
      "source": [
        "number_of_epochs = 20\n",
        "\n",
        "best_acc = float('-inf')\n",
        "\n",
        "for epoch in range(number_of_epochs):\n",
        "    \n",
        "    # Write the code here\n",
        "    train_loss, train_acc = train(model,train_iterator,optimizer,criterion)\n",
        "    # Write the code here\n",
        "    valid_loss, valid_acc = evaluate(model,valid_iterator,criterion)\n",
        "    \n",
        "    if valid_acc > best_acc:\n",
        "        # Write the code here\n",
        "        best_acc=valid_acc\n",
        "        torch.save(model.state_dict(), 'trec.pt')\n",
        "    \n",
        "    print(f'Epoch {epoch+1} ')\n",
        "    print(f'\\tTrain Loss: {train_loss:.3f} | Train Acc: {train_acc*100:.2f}%')\n",
        "    print(f'\\t Validation Loss: {valid_loss:.3f} |  Validation Acc: {valid_acc*100:.2f}%')"
      ],
      "metadata": {
        "id": "6Jd1eYGupW0x",
        "colab": {
          "base_uri": "https://localhost:8080/"
        },
        "outputId": "d25205cf-e76f-419b-8a1b-3accd3d22ec2"
      },
      "execution_count": 18,
      "outputs": [
        {
          "output_type": "stream",
          "name": "stderr",
          "text": [
            "/usr/local/lib/python3.7/dist-packages/torch/nn/functional.py:652: UserWarning: Named tensors and all their associated APIs are an experimental feature and subject to change. Please do not use them for anything important until they are released as stable. (Triggered internally at  /pytorch/c10/core/TensorImpl.h:1156.)\n",
            "  return torch.max_pool1d(input, kernel_size, stride, padding, dilation, ceil_mode)\n"
          ]
        },
        {
          "output_type": "stream",
          "name": "stdout",
          "text": [
            "Epoch 1 \n",
            "\tTrain Loss: 1.308 | Train Acc: 47.92%\n",
            "\t Validation Loss: 0.956 |  Validation Acc: 64.57%\n",
            "Epoch 2 \n",
            "\tTrain Loss: 0.788 | Train Acc: 71.94%\n",
            "\t Validation Loss: 0.736 |  Validation Acc: 72.54%\n",
            "Epoch 3 \n",
            "\tTrain Loss: 0.600 | Train Acc: 79.30%\n",
            "\t Validation Loss: 0.637 |  Validation Acc: 75.61%\n",
            "Epoch 4 \n",
            "\tTrain Loss: 0.465 | Train Acc: 84.93%\n",
            "\t Validation Loss: 0.615 |  Validation Acc: 75.99%\n",
            "Epoch 5 \n",
            "\tTrain Loss: 0.361 | Train Acc: 89.19%\n",
            "\t Validation Loss: 0.554 |  Validation Acc: 78.60%\n",
            "Epoch 6 \n",
            "\tTrain Loss: 0.279 | Train Acc: 91.90%\n",
            "\t Validation Loss: 0.532 |  Validation Acc: 80.71%\n",
            "Epoch 7 \n",
            "\tTrain Loss: 0.210 | Train Acc: 94.19%\n",
            "\t Validation Loss: 0.514 |  Validation Acc: 80.57%\n",
            "Epoch 8 \n",
            "\tTrain Loss: 0.168 | Train Acc: 95.76%\n",
            "\t Validation Loss: 0.522 |  Validation Acc: 81.49%\n",
            "Epoch 9 \n",
            "\tTrain Loss: 0.141 | Train Acc: 96.45%\n",
            "\t Validation Loss: 0.515 |  Validation Acc: 82.44%\n",
            "Epoch 10 \n",
            "\tTrain Loss: 0.113 | Train Acc: 97.46%\n",
            "\t Validation Loss: 0.509 |  Validation Acc: 82.37%\n",
            "Epoch 11 \n",
            "\tTrain Loss: 0.090 | Train Acc: 98.10%\n",
            "\t Validation Loss: 0.513 |  Validation Acc: 82.28%\n",
            "Epoch 12 \n",
            "\tTrain Loss: 0.075 | Train Acc: 98.43%\n",
            "\t Validation Loss: 0.523 |  Validation Acc: 82.14%\n",
            "Epoch 13 \n",
            "\tTrain Loss: 0.064 | Train Acc: 98.53%\n",
            "\t Validation Loss: 0.514 |  Validation Acc: 82.44%\n",
            "Epoch 14 \n",
            "\tTrain Loss: 0.054 | Train Acc: 99.02%\n",
            "\t Validation Loss: 0.545 |  Validation Acc: 82.10%\n",
            "Epoch 15 \n",
            "\tTrain Loss: 0.050 | Train Acc: 98.94%\n",
            "\t Validation Loss: 0.528 |  Validation Acc: 82.69%\n",
            "Epoch 16 \n",
            "\tTrain Loss: 0.043 | Train Acc: 99.15%\n",
            "\t Validation Loss: 0.543 |  Validation Acc: 83.01%\n",
            "Epoch 17 \n",
            "\tTrain Loss: 0.038 | Train Acc: 99.32%\n",
            "\t Validation Loss: 0.531 |  Validation Acc: 83.15%\n",
            "Epoch 18 \n",
            "\tTrain Loss: 0.033 | Train Acc: 99.40%\n",
            "\t Validation Loss: 0.558 |  Validation Acc: 82.79%\n",
            "Epoch 19 \n",
            "\tTrain Loss: 0.033 | Train Acc: 99.19%\n",
            "\t Validation Loss: 0.560 |  Validation Acc: 82.91%\n",
            "Epoch 20 \n",
            "\tTrain Loss: 0.030 | Train Acc: 99.35%\n",
            "\t Validation Loss: 0.555 |  Validation Acc: 83.45%\n"
          ]
        }
      ]
    },
    {
      "cell_type": "code",
      "source": [
        "model.load_state_dict(torch.load('trec.pt'))\n",
        "\n",
        "test_loss, test_acc = evaluate(model, test_iterator, criterion)\n",
        "\n",
        "print(f'Test Loss: {test_loss:.3f} | Test Acc: {test_acc*100:.2f}%')"
      ],
      "metadata": {
        "id": "mAcltNzgqgDb",
        "colab": {
          "base_uri": "https://localhost:8080/"
        },
        "outputId": "7288b75d-40d6-4974-a412-a7ebb2448151"
      },
      "execution_count": 19,
      "outputs": [
        {
          "output_type": "stream",
          "name": "stdout",
          "text": [
            "Test Loss: 0.428 | Test Acc: 89.48%\n"
          ]
        }
      ]
    }
  ]
}